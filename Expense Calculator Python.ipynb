{
 "cells": [
  {
   "cell_type": "code",
   "execution_count": 26,
   "metadata": {},
   "outputs": [],
   "source": [
    "#Loading required libraries and initialising the expense list\n",
    "import re\n",
    "expense_list=[]"
   ]
  },
  {
   "cell_type": "code",
   "execution_count": 72,
   "metadata": {},
   "outputs": [],
   "source": [
    "#Defing all the functions required\n",
    "def add_expense(expense):\n",
    "    #Initialising error variable is set to True if there is any exception and exits function if there is an error in input\n",
    "    error=False\n",
    "    #Extracting description using Regex\n",
    "    description = re.findall(r'“(.*?)”', expense)[0]\n",
    "    #Raising exception if description entered is not in correct format\n",
    "    if description =='':\n",
    "        error = True\n",
    "        raise Exception('Enter expense in below format\\n “Lunch” - $12.50') \n",
    "    try:\n",
    "        amount = float(expense.split('$')[1])\n",
    "    #Raising exception if amount entered is not in correct format\n",
    "    except ValueError:\n",
    "        print('Enter Expense in numbers')\n",
    "        error=True\n",
    "    if error:\n",
    "        exit()\n",
    "    expense_tuple = (description,amount)\n",
    "    global expense_list\n",
    "    expense_list.append(expense_tuple)\n",
    "\n",
    "def view_expenses():\n",
    "    global expense_list\n",
    "    #Looping through the expense list and printing all the entered expenses\n",
    "    for i in range(len(expense_list)):\n",
    "        print('{0} {1}- ${2}'.format(i+1,expense_list[i][0],expense_list[i][1]))\n",
    "\n",
    "#Function definition to filter the mentioned categories from the expense list\n",
    "def filtering(category):\n",
    "    global expense_list\n",
    "    filtered=[]\n",
    "    for i in expense_list:\n",
    "        if category in i:\n",
    "            filtered.append(i)\n",
    "    return filtered\n",
    "\n",
    "#Function definition to return the total expense\n",
    "def calculate_total():\n",
    "    global expense_list\n",
    "    total=0\n",
    "    for i in range(len(expense_list)):\n",
    "        total = total + expense_list[i][1]\n",
    "    return total\n",
    "\n",
    "#Function definition to append all the expense from the expense list into the file\n",
    "def save_to_file():\n",
    "    global file_name, expense_list\n",
    "    file=open(file_name,'a')\n",
    "    for desc, expense in expense_list:\n",
    "        file.write(\"%s\\n\" %(desc + \",\" + str(expense)))\n",
    "    file.close()\n",
    "\n",
    "#Function definition to append all the expense from the file into the expense list\n",
    "def load_from_file():\n",
    "    global file_name, expense_list\n",
    "    file = open(file_name,'r')\n",
    "    for line in file:\n",
    "        desc, expense= line.split(',')\n",
    "        expense_list.append((desc,float(expense.strip())))\n",
    "    file.close()\n",
    "\n",
    "#function definition to return total based on categories entered\n",
    "def category_total(*cat):\n",
    "    if not cat:\n",
    "        return calculate_total()\n",
    "    else:\n",
    "        filtered = filtering(cat[0])\n",
    "        total=0\n",
    "        if not filtered:\n",
    "            raise Exception('Category is not in Expense')\n",
    "        for i in range(len(filtered)):\n",
    "            total = total + filtered[i][1]\n",
    "        return total\n",
    "\n",
    "file_name = input('Enter the file name to create:\\t')\n",
    "\n",
    "#Raise error if the file name entered is in different format\n",
    "if file_name == '' or file_name.split('.')[1] !='txt':\n",
    "    raise Exception('Enter valid file name in txt format')\n",
    "\n",
    "#To check if file already exists\n",
    "try:\n",
    "    with open(file_name, 'x') as file:\n",
    "        pass\n",
    "except FileExistsError:\n",
    "    print('The file {0} already exists.'.format(file_name)) \n"
   ]
  },
  {
   "cell_type": "code",
   "execution_count": 35,
   "metadata": {},
   "outputs": [],
   "source": [
    "expense = '“bills” - $50'"
   ]
  },
  {
   "cell_type": "code",
   "execution_count": 42,
   "metadata": {},
   "outputs": [],
   "source": [
    "add_expense(expense)"
   ]
  },
  {
   "cell_type": "code",
   "execution_count": 53,
   "metadata": {},
   "outputs": [
    {
     "name": "stdout",
     "output_type": "stream",
     "text": [
      "1 Lunch- $12.5\n",
      "2 Lunch- $12.5\n",
      "3 Lunch- $12.5\n",
      "4 Lunch- $12.5\n",
      "5 Lunch- $12.5\n",
      "6 Lunch- $12.5\n",
      "7 Lunch- $12.5\n",
      "8 Lunch- $12.5\n",
      "9 Lunch- $12.5\n",
      "10 Lunch- $12.5\n",
      "11 Lunch- $12.5\n",
      "12 Lunch- $12.5\n",
      "13 Lunch- $12.5\n",
      "14 Lunch- $12.5\n",
      "15 Lunch- $12.5\n",
      "16 bills- $50.0\n",
      "17 bills- $50.0\n",
      "18 bills- $50.0\n",
      "19 bills- $50.0\n",
      "20 bills- $50.0\n",
      "21 bills- $50.0\n",
      "22 bills- $50.0\n"
     ]
    }
   ],
   "source": [
    "view_expenses()"
   ]
  },
  {
   "cell_type": "code",
   "execution_count": 30,
   "metadata": {},
   "outputs": [],
   "source": [
    "save_to_file()"
   ]
  },
  {
   "cell_type": "code",
   "execution_count": 31,
   "metadata": {},
   "outputs": [],
   "source": [
    "load_from_file()"
   ]
  },
  {
   "cell_type": "code",
   "execution_count": 75,
   "metadata": {},
   "outputs": [
    {
     "data": {
      "text/plain": [
       "350.0"
      ]
     },
     "execution_count": 75,
     "metadata": {},
     "output_type": "execute_result"
    }
   ],
   "source": [
    "category_total('bills')"
   ]
  }
 ],
 "metadata": {
  "kernelspec": {
   "display_name": "Python 3",
   "language": "python",
   "name": "python3"
  },
  "language_info": {
   "codemirror_mode": {
    "name": "ipython",
    "version": 3
   },
   "file_extension": ".py",
   "mimetype": "text/x-python",
   "name": "python",
   "nbconvert_exporter": "python",
   "pygments_lexer": "ipython3",
   "version": "3.9.5"
  }
 },
 "nbformat": 4,
 "nbformat_minor": 2
}
